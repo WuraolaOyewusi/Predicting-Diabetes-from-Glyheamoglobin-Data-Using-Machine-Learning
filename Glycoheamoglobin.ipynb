{
  "nbformat": 4,
  "nbformat_minor": 0,
  "metadata": {
    "colab": {
      "name": "Glycoheamoglobin.ipynb",
      "version": "0.3.2",
      "provenance": [],
      "include_colab_link": true
    },
    "kernelspec": {
      "name": "python3",
      "display_name": "Python 3"
    }
  },
  "cells": [
    {
      "cell_type": "markdown",
      "metadata": {
        "id": "view-in-github",
        "colab_type": "text"
      },
      "source": [
        "<a href=\"https://colab.research.google.com/github/WuraolaOyewusi/Prediction-Diabetes-from-Glyheamoglobin-Values-Using-Machine-Learning/blob/master/Glycoheamoglobin.ipynb\" target=\"_parent\"><img src=\"https://colab.research.google.com/assets/colab-badge.svg\" alt=\"Open In Colab\"/></a>"
      ]
    },
    {
      "metadata": {
        "id": "wcGliu7NW-ub",
        "colab_type": "code",
        "colab": {}
      },
      "cell_type": "code",
      "source": [
        "import pandas as pd"
      ],
      "execution_count": 0,
      "outputs": []
    },
    {
      "metadata": {
        "id": "WPYzn5-UYv3z",
        "colab_type": "text"
      },
      "cell_type": "markdown",
      "source": [
        "Data obtained from http://biostat.mc.vanderbilt.edu/DataSets\".\n"
      ]
    },
    {
      "metadata": {
        "id": "x91JDnmRXDpV",
        "colab_type": "code",
        "colab": {}
      },
      "cell_type": "code",
      "source": [
        "nhanes = pd.read_csv('http://biostat.mc.vanderbilt.edu/wiki/pub/Main/DataSets/nhgh.tsv',sep ='\\t')"
      ],
      "execution_count": 0,
      "outputs": []
    },
    {
      "metadata": {
        "id": "_pVPVgoSXS6f",
        "colab_type": "code",
        "outputId": "eeff9e16-e23f-4028-e908-90da4c5dc86c",
        "colab": {
          "base_uri": "https://localhost:8080/",
          "height": 197
        }
      },
      "cell_type": "code",
      "source": [
        "nhanes.head()"
      ],
      "execution_count": 129,
      "outputs": [
        {
          "output_type": "execute_result",
          "data": {
            "text/html": [
              "<div>\n",
              "<style scoped>\n",
              "    .dataframe tbody tr th:only-of-type {\n",
              "        vertical-align: middle;\n",
              "    }\n",
              "\n",
              "    .dataframe tbody tr th {\n",
              "        vertical-align: top;\n",
              "    }\n",
              "\n",
              "    .dataframe thead th {\n",
              "        text-align: right;\n",
              "    }\n",
              "</style>\n",
              "<table border=\"1\" class=\"dataframe\">\n",
              "  <thead>\n",
              "    <tr style=\"text-align: right;\">\n",
              "      <th></th>\n",
              "      <th>seqn</th>\n",
              "      <th>sex</th>\n",
              "      <th>age</th>\n",
              "      <th>re</th>\n",
              "      <th>income</th>\n",
              "      <th>tx</th>\n",
              "      <th>dx</th>\n",
              "      <th>wt</th>\n",
              "      <th>ht</th>\n",
              "      <th>bmi</th>\n",
              "      <th>leg</th>\n",
              "      <th>arml</th>\n",
              "      <th>armc</th>\n",
              "      <th>waist</th>\n",
              "      <th>tri</th>\n",
              "      <th>sub</th>\n",
              "      <th>gh</th>\n",
              "      <th>albumin</th>\n",
              "      <th>bun</th>\n",
              "      <th>SCr</th>\n",
              "    </tr>\n",
              "  </thead>\n",
              "  <tbody>\n",
              "    <tr>\n",
              "      <th>0</th>\n",
              "      <td>51624</td>\n",
              "      <td>male</td>\n",
              "      <td>34.166667</td>\n",
              "      <td>Non-Hispanic White</td>\n",
              "      <td>[25000,35000)</td>\n",
              "      <td>0</td>\n",
              "      <td>0</td>\n",
              "      <td>87.4</td>\n",
              "      <td>164.7</td>\n",
              "      <td>32.22</td>\n",
              "      <td>41.5</td>\n",
              "      <td>40.0</td>\n",
              "      <td>36.4</td>\n",
              "      <td>100.4</td>\n",
              "      <td>16.4</td>\n",
              "      <td>24.9</td>\n",
              "      <td>5.2</td>\n",
              "      <td>4.8</td>\n",
              "      <td>6.0</td>\n",
              "      <td>0.94</td>\n",
              "    </tr>\n",
              "    <tr>\n",
              "      <th>1</th>\n",
              "      <td>51626</td>\n",
              "      <td>male</td>\n",
              "      <td>16.833333</td>\n",
              "      <td>Non-Hispanic Black</td>\n",
              "      <td>[45000,55000)</td>\n",
              "      <td>0</td>\n",
              "      <td>0</td>\n",
              "      <td>72.3</td>\n",
              "      <td>181.3</td>\n",
              "      <td>22.00</td>\n",
              "      <td>42.0</td>\n",
              "      <td>39.5</td>\n",
              "      <td>26.6</td>\n",
              "      <td>74.7</td>\n",
              "      <td>10.2</td>\n",
              "      <td>10.5</td>\n",
              "      <td>5.7</td>\n",
              "      <td>4.6</td>\n",
              "      <td>9.0</td>\n",
              "      <td>0.89</td>\n",
              "    </tr>\n",
              "    <tr>\n",
              "      <th>2</th>\n",
              "      <td>51628</td>\n",
              "      <td>female</td>\n",
              "      <td>60.166667</td>\n",
              "      <td>Non-Hispanic Black</td>\n",
              "      <td>[10000,15000)</td>\n",
              "      <td>1</td>\n",
              "      <td>1</td>\n",
              "      <td>116.8</td>\n",
              "      <td>166.0</td>\n",
              "      <td>42.39</td>\n",
              "      <td>35.3</td>\n",
              "      <td>39.0</td>\n",
              "      <td>42.2</td>\n",
              "      <td>118.2</td>\n",
              "      <td>29.6</td>\n",
              "      <td>35.6</td>\n",
              "      <td>6.0</td>\n",
              "      <td>3.9</td>\n",
              "      <td>10.0</td>\n",
              "      <td>1.11</td>\n",
              "    </tr>\n",
              "    <tr>\n",
              "      <th>3</th>\n",
              "      <td>51629</td>\n",
              "      <td>male</td>\n",
              "      <td>26.083333</td>\n",
              "      <td>Mexican American</td>\n",
              "      <td>[25000,35000)</td>\n",
              "      <td>0</td>\n",
              "      <td>0</td>\n",
              "      <td>97.6</td>\n",
              "      <td>173.0</td>\n",
              "      <td>32.61</td>\n",
              "      <td>41.7</td>\n",
              "      <td>38.7</td>\n",
              "      <td>37.0</td>\n",
              "      <td>103.7</td>\n",
              "      <td>19.0</td>\n",
              "      <td>23.2</td>\n",
              "      <td>5.1</td>\n",
              "      <td>4.2</td>\n",
              "      <td>8.0</td>\n",
              "      <td>0.80</td>\n",
              "    </tr>\n",
              "    <tr>\n",
              "      <th>4</th>\n",
              "      <td>51630</td>\n",
              "      <td>female</td>\n",
              "      <td>49.666667</td>\n",
              "      <td>Non-Hispanic White</td>\n",
              "      <td>[35000,45000)</td>\n",
              "      <td>0</td>\n",
              "      <td>0</td>\n",
              "      <td>86.7</td>\n",
              "      <td>168.4</td>\n",
              "      <td>30.57</td>\n",
              "      <td>37.5</td>\n",
              "      <td>36.1</td>\n",
              "      <td>33.3</td>\n",
              "      <td>107.8</td>\n",
              "      <td>30.3</td>\n",
              "      <td>28.0</td>\n",
              "      <td>5.3</td>\n",
              "      <td>4.3</td>\n",
              "      <td>13.0</td>\n",
              "      <td>0.79</td>\n",
              "    </tr>\n",
              "  </tbody>\n",
              "</table>\n",
              "</div>"
            ],
            "text/plain": [
              "    seqn     sex        age                  re         income  tx  dx     wt  \\\n",
              "0  51624    male  34.166667  Non-Hispanic White  [25000,35000)   0   0   87.4   \n",
              "1  51626    male  16.833333  Non-Hispanic Black  [45000,55000)   0   0   72.3   \n",
              "2  51628  female  60.166667  Non-Hispanic Black  [10000,15000)   1   1  116.8   \n",
              "3  51629    male  26.083333    Mexican American  [25000,35000)   0   0   97.6   \n",
              "4  51630  female  49.666667  Non-Hispanic White  [35000,45000)   0   0   86.7   \n",
              "\n",
              "      ht    bmi   leg  arml  armc  waist   tri   sub   gh  albumin   bun   SCr  \n",
              "0  164.7  32.22  41.5  40.0  36.4  100.4  16.4  24.9  5.2      4.8   6.0  0.94  \n",
              "1  181.3  22.00  42.0  39.5  26.6   74.7  10.2  10.5  5.7      4.6   9.0  0.89  \n",
              "2  166.0  42.39  35.3  39.0  42.2  118.2  29.6  35.6  6.0      3.9  10.0  1.11  \n",
              "3  173.0  32.61  41.7  38.7  37.0  103.7  19.0  23.2  5.1      4.2   8.0  0.80  \n",
              "4  168.4  30.57  37.5  36.1  33.3  107.8  30.3  28.0  5.3      4.3  13.0  0.79  "
            ]
          },
          "metadata": {
            "tags": []
          },
          "execution_count": 129
        }
      ]
    },
    {
      "metadata": {
        "id": "b4ROWs8TXWoe",
        "colab_type": "code",
        "outputId": "d302c2fe-0004-4c92-e76f-20c9d63fb202",
        "colab": {
          "base_uri": "https://localhost:8080/",
          "height": 35
        }
      },
      "cell_type": "code",
      "source": [
        "nhanes.shape"
      ],
      "execution_count": 130,
      "outputs": [
        {
          "output_type": "execute_result",
          "data": {
            "text/plain": [
              "(6795, 20)"
            ]
          },
          "metadata": {
            "tags": []
          },
          "execution_count": 130
        }
      ]
    },
    {
      "metadata": {
        "id": "gtg63W8WXfl8",
        "colab_type": "text"
      },
      "cell_type": "markdown",
      "source": [
        "http://biostat.mc.vanderbilt.edu/wiki/pub/Main/DataSets/nhgh.html"
      ]
    },
    {
      "metadata": {
        "id": "-e-G9wyMXotq",
        "colab_type": "text"
      },
      "cell_type": "markdown",
      "source": [
        ""
      ]
    },
    {
      "metadata": {
        "id": "o9hbNDfHGfhf",
        "colab_type": "text"
      },
      "cell_type": "markdown",
      "source": [
        "Feature selection"
      ]
    },
    {
      "metadata": {
        "id": "NAdKhhNQF5oG",
        "colab_type": "code",
        "colab": {}
      },
      "cell_type": "code",
      "source": [
        "nhanes_sub = nhanes[['seqn','sex','age','bmi','waist','gh','albumin','bun','SCr']].copy()"
      ],
      "execution_count": 0,
      "outputs": []
    },
    {
      "metadata": {
        "id": "Vs9HKn-uJvmY",
        "colab_type": "code",
        "outputId": "bc56dcb2-252a-4576-9fd6-2dd9bfd36383",
        "colab": {
          "base_uri": "https://localhost:8080/",
          "height": 197
        }
      },
      "cell_type": "code",
      "source": [
        "nhanes_sub.head()"
      ],
      "execution_count": 132,
      "outputs": [
        {
          "output_type": "execute_result",
          "data": {
            "text/html": [
              "<div>\n",
              "<style scoped>\n",
              "    .dataframe tbody tr th:only-of-type {\n",
              "        vertical-align: middle;\n",
              "    }\n",
              "\n",
              "    .dataframe tbody tr th {\n",
              "        vertical-align: top;\n",
              "    }\n",
              "\n",
              "    .dataframe thead th {\n",
              "        text-align: right;\n",
              "    }\n",
              "</style>\n",
              "<table border=\"1\" class=\"dataframe\">\n",
              "  <thead>\n",
              "    <tr style=\"text-align: right;\">\n",
              "      <th></th>\n",
              "      <th>seqn</th>\n",
              "      <th>sex</th>\n",
              "      <th>age</th>\n",
              "      <th>bmi</th>\n",
              "      <th>waist</th>\n",
              "      <th>gh</th>\n",
              "      <th>albumin</th>\n",
              "      <th>bun</th>\n",
              "      <th>SCr</th>\n",
              "    </tr>\n",
              "  </thead>\n",
              "  <tbody>\n",
              "    <tr>\n",
              "      <th>0</th>\n",
              "      <td>51624</td>\n",
              "      <td>male</td>\n",
              "      <td>34.166667</td>\n",
              "      <td>32.22</td>\n",
              "      <td>100.4</td>\n",
              "      <td>5.2</td>\n",
              "      <td>4.8</td>\n",
              "      <td>6.0</td>\n",
              "      <td>0.94</td>\n",
              "    </tr>\n",
              "    <tr>\n",
              "      <th>1</th>\n",
              "      <td>51626</td>\n",
              "      <td>male</td>\n",
              "      <td>16.833333</td>\n",
              "      <td>22.00</td>\n",
              "      <td>74.7</td>\n",
              "      <td>5.7</td>\n",
              "      <td>4.6</td>\n",
              "      <td>9.0</td>\n",
              "      <td>0.89</td>\n",
              "    </tr>\n",
              "    <tr>\n",
              "      <th>2</th>\n",
              "      <td>51628</td>\n",
              "      <td>female</td>\n",
              "      <td>60.166667</td>\n",
              "      <td>42.39</td>\n",
              "      <td>118.2</td>\n",
              "      <td>6.0</td>\n",
              "      <td>3.9</td>\n",
              "      <td>10.0</td>\n",
              "      <td>1.11</td>\n",
              "    </tr>\n",
              "    <tr>\n",
              "      <th>3</th>\n",
              "      <td>51629</td>\n",
              "      <td>male</td>\n",
              "      <td>26.083333</td>\n",
              "      <td>32.61</td>\n",
              "      <td>103.7</td>\n",
              "      <td>5.1</td>\n",
              "      <td>4.2</td>\n",
              "      <td>8.0</td>\n",
              "      <td>0.80</td>\n",
              "    </tr>\n",
              "    <tr>\n",
              "      <th>4</th>\n",
              "      <td>51630</td>\n",
              "      <td>female</td>\n",
              "      <td>49.666667</td>\n",
              "      <td>30.57</td>\n",
              "      <td>107.8</td>\n",
              "      <td>5.3</td>\n",
              "      <td>4.3</td>\n",
              "      <td>13.0</td>\n",
              "      <td>0.79</td>\n",
              "    </tr>\n",
              "  </tbody>\n",
              "</table>\n",
              "</div>"
            ],
            "text/plain": [
              "    seqn     sex        age    bmi  waist   gh  albumin   bun   SCr\n",
              "0  51624    male  34.166667  32.22  100.4  5.2      4.8   6.0  0.94\n",
              "1  51626    male  16.833333  22.00   74.7  5.7      4.6   9.0  0.89\n",
              "2  51628  female  60.166667  42.39  118.2  6.0      3.9  10.0  1.11\n",
              "3  51629    male  26.083333  32.61  103.7  5.1      4.2   8.0  0.80\n",
              "4  51630  female  49.666667  30.57  107.8  5.3      4.3  13.0  0.79"
            ]
          },
          "metadata": {
            "tags": []
          },
          "execution_count": 132
        }
      ]
    },
    {
      "metadata": {
        "id": "C2culZWaJ0BX",
        "colab_type": "code",
        "outputId": "d1605c1f-eba4-4f69-8bdb-6a5b3bba8b3c",
        "colab": {
          "base_uri": "https://localhost:8080/",
          "height": 35
        }
      },
      "cell_type": "code",
      "source": [
        "nhanes_sub['seqn'].nunique()"
      ],
      "execution_count": 133,
      "outputs": [
        {
          "output_type": "execute_result",
          "data": {
            "text/plain": [
              "6795"
            ]
          },
          "metadata": {
            "tags": []
          },
          "execution_count": 133
        }
      ]
    },
    {
      "metadata": {
        "id": "a-ec-SFji5Nn",
        "colab_type": "code",
        "colab": {
          "base_uri": "https://localhost:8080/",
          "height": 314
        },
        "outputId": "6d3b5474-c935-4866-845c-d602fc400245"
      },
      "cell_type": "code",
      "source": [
        "nhanes_sub.info()"
      ],
      "execution_count": 176,
      "outputs": [
        {
          "output_type": "stream",
          "text": [
            "<class 'pandas.core.frame.DataFrame'>\n",
            "RangeIndex: 6795 entries, 0 to 6794\n",
            "Data columns (total 11 columns):\n",
            "seqn         6795 non-null int64\n",
            "sex          6795 non-null object\n",
            "age          6795 non-null float64\n",
            "bmi          6795 non-null float64\n",
            "waist        6556 non-null float64\n",
            "gh           6795 non-null float64\n",
            "albumin      6706 non-null float64\n",
            "bun          6706 non-null float64\n",
            "SCr          6706 non-null float64\n",
            "gh_int       6795 non-null int64\n",
            "age_range    6795 non-null category\n",
            "dtypes: category(1), float64(7), int64(2), object(1)\n",
            "memory usage: 537.9+ KB\n"
          ],
          "name": "stdout"
        }
      ]
    },
    {
      "metadata": {
        "id": "pP64pyXYkUxj",
        "colab_type": "code",
        "colab": {}
      },
      "cell_type": "code",
      "source": [
        "nhanes_sub.dropna(inplace=True)"
      ],
      "execution_count": 0,
      "outputs": []
    },
    {
      "metadata": {
        "id": "J9L1giy1kZ-J",
        "colab_type": "code",
        "colab": {
          "base_uri": "https://localhost:8080/",
          "height": 314
        },
        "outputId": "3e899798-699f-4c98-809c-7f947dd5d304"
      },
      "cell_type": "code",
      "source": [
        "nhanes_sub.info()"
      ],
      "execution_count": 178,
      "outputs": [
        {
          "output_type": "stream",
          "text": [
            "<class 'pandas.core.frame.DataFrame'>\n",
            "Int64Index: 6475 entries, 0 to 6794\n",
            "Data columns (total 11 columns):\n",
            "seqn         6475 non-null int64\n",
            "sex          6475 non-null object\n",
            "age          6475 non-null float64\n",
            "bmi          6475 non-null float64\n",
            "waist        6475 non-null float64\n",
            "gh           6475 non-null float64\n",
            "albumin      6475 non-null float64\n",
            "bun          6475 non-null float64\n",
            "SCr          6475 non-null float64\n",
            "gh_int       6475 non-null int64\n",
            "age_range    6475 non-null category\n",
            "dtypes: category(1), float64(7), int64(2), object(1)\n",
            "memory usage: 563.1+ KB\n"
          ],
          "name": "stdout"
        }
      ]
    },
    {
      "metadata": {
        "id": "IUO0Q71zPzv0",
        "colab_type": "code",
        "colab": {}
      },
      "cell_type": "code",
      "source": [
        "nhanes_sub['gh_int'] = nhanes_sub['gh'].map(lambda x:int(2) if x>=6.5 else int(0) if x<5.7 else int(1) )"
      ],
      "execution_count": 0,
      "outputs": []
    },
    {
      "metadata": {
        "id": "HMfTzjOwQobw",
        "colab_type": "code",
        "colab": {
          "base_uri": "https://localhost:8080/",
          "height": 947
        },
        "outputId": "d17af4ed-9577-426d-b492-33f04a801e26"
      },
      "cell_type": "code",
      "source": [
        "nhanes_sub.head(30)"
      ],
      "execution_count": 135,
      "outputs": [
        {
          "output_type": "execute_result",
          "data": {
            "text/html": [
              "<div>\n",
              "<style scoped>\n",
              "    .dataframe tbody tr th:only-of-type {\n",
              "        vertical-align: middle;\n",
              "    }\n",
              "\n",
              "    .dataframe tbody tr th {\n",
              "        vertical-align: top;\n",
              "    }\n",
              "\n",
              "    .dataframe thead th {\n",
              "        text-align: right;\n",
              "    }\n",
              "</style>\n",
              "<table border=\"1\" class=\"dataframe\">\n",
              "  <thead>\n",
              "    <tr style=\"text-align: right;\">\n",
              "      <th></th>\n",
              "      <th>seqn</th>\n",
              "      <th>sex</th>\n",
              "      <th>age</th>\n",
              "      <th>bmi</th>\n",
              "      <th>waist</th>\n",
              "      <th>gh</th>\n",
              "      <th>albumin</th>\n",
              "      <th>bun</th>\n",
              "      <th>SCr</th>\n",
              "      <th>gh_int</th>\n",
              "    </tr>\n",
              "  </thead>\n",
              "  <tbody>\n",
              "    <tr>\n",
              "      <th>0</th>\n",
              "      <td>51624</td>\n",
              "      <td>male</td>\n",
              "      <td>34.166667</td>\n",
              "      <td>32.22</td>\n",
              "      <td>100.4</td>\n",
              "      <td>5.2</td>\n",
              "      <td>4.8</td>\n",
              "      <td>6.0</td>\n",
              "      <td>0.94</td>\n",
              "      <td>0</td>\n",
              "    </tr>\n",
              "    <tr>\n",
              "      <th>1</th>\n",
              "      <td>51626</td>\n",
              "      <td>male</td>\n",
              "      <td>16.833333</td>\n",
              "      <td>22.00</td>\n",
              "      <td>74.7</td>\n",
              "      <td>5.7</td>\n",
              "      <td>4.6</td>\n",
              "      <td>9.0</td>\n",
              "      <td>0.89</td>\n",
              "      <td>1</td>\n",
              "    </tr>\n",
              "    <tr>\n",
              "      <th>2</th>\n",
              "      <td>51628</td>\n",
              "      <td>female</td>\n",
              "      <td>60.166667</td>\n",
              "      <td>42.39</td>\n",
              "      <td>118.2</td>\n",
              "      <td>6.0</td>\n",
              "      <td>3.9</td>\n",
              "      <td>10.0</td>\n",
              "      <td>1.11</td>\n",
              "      <td>1</td>\n",
              "    </tr>\n",
              "    <tr>\n",
              "      <th>3</th>\n",
              "      <td>51629</td>\n",
              "      <td>male</td>\n",
              "      <td>26.083333</td>\n",
              "      <td>32.61</td>\n",
              "      <td>103.7</td>\n",
              "      <td>5.1</td>\n",
              "      <td>4.2</td>\n",
              "      <td>8.0</td>\n",
              "      <td>0.80</td>\n",
              "      <td>0</td>\n",
              "    </tr>\n",
              "    <tr>\n",
              "      <th>4</th>\n",
              "      <td>51630</td>\n",
              "      <td>female</td>\n",
              "      <td>49.666667</td>\n",
              "      <td>30.57</td>\n",
              "      <td>107.8</td>\n",
              "      <td>5.3</td>\n",
              "      <td>4.3</td>\n",
              "      <td>13.0</td>\n",
              "      <td>0.79</td>\n",
              "      <td>0</td>\n",
              "    </tr>\n",
              "    <tr>\n",
              "      <th>5</th>\n",
              "      <td>51633</td>\n",
              "      <td>male</td>\n",
              "      <td>80.000000</td>\n",
              "      <td>26.04</td>\n",
              "      <td>91.1</td>\n",
              "      <td>5.4</td>\n",
              "      <td>4.3</td>\n",
              "      <td>16.0</td>\n",
              "      <td>0.83</td>\n",
              "      <td>0</td>\n",
              "    </tr>\n",
              "    <tr>\n",
              "      <th>6</th>\n",
              "      <td>51635</td>\n",
              "      <td>male</td>\n",
              "      <td>80.000000</td>\n",
              "      <td>27.62</td>\n",
              "      <td>113.7</td>\n",
              "      <td>6.8</td>\n",
              "      <td>4.3</td>\n",
              "      <td>16.0</td>\n",
              "      <td>0.90</td>\n",
              "      <td>2</td>\n",
              "    </tr>\n",
              "    <tr>\n",
              "      <th>7</th>\n",
              "      <td>51640</td>\n",
              "      <td>male</td>\n",
              "      <td>17.416667</td>\n",
              "      <td>25.97</td>\n",
              "      <td>86.0</td>\n",
              "      <td>5.1</td>\n",
              "      <td>4.7</td>\n",
              "      <td>11.0</td>\n",
              "      <td>1.00</td>\n",
              "      <td>0</td>\n",
              "    </tr>\n",
              "    <tr>\n",
              "      <th>8</th>\n",
              "      <td>51641</td>\n",
              "      <td>male</td>\n",
              "      <td>13.000000</td>\n",
              "      <td>16.60</td>\n",
              "      <td>63.6</td>\n",
              "      <td>5.6</td>\n",
              "      <td>4.3</td>\n",
              "      <td>10.0</td>\n",
              "      <td>0.46</td>\n",
              "      <td>0</td>\n",
              "    </tr>\n",
              "    <tr>\n",
              "      <th>9</th>\n",
              "      <td>51643</td>\n",
              "      <td>female</td>\n",
              "      <td>43.000000</td>\n",
              "      <td>39.90</td>\n",
              "      <td>129.8</td>\n",
              "      <td>11.0</td>\n",
              "      <td>3.6</td>\n",
              "      <td>16.0</td>\n",
              "      <td>2.54</td>\n",
              "      <td>2</td>\n",
              "    </tr>\n",
              "    <tr>\n",
              "      <th>10</th>\n",
              "      <td>51645</td>\n",
              "      <td>male</td>\n",
              "      <td>66.416667</td>\n",
              "      <td>28.25</td>\n",
              "      <td>NaN</td>\n",
              "      <td>5.7</td>\n",
              "      <td>4.4</td>\n",
              "      <td>9.0</td>\n",
              "      <td>0.86</td>\n",
              "      <td>1</td>\n",
              "    </tr>\n",
              "    <tr>\n",
              "      <th>11</th>\n",
              "      <td>51647</td>\n",
              "      <td>female</td>\n",
              "      <td>45.166667</td>\n",
              "      <td>27.24</td>\n",
              "      <td>84.8</td>\n",
              "      <td>5.1</td>\n",
              "      <td>4.4</td>\n",
              "      <td>6.0</td>\n",
              "      <td>0.86</td>\n",
              "      <td>0</td>\n",
              "    </tr>\n",
              "    <tr>\n",
              "      <th>12</th>\n",
              "      <td>51648</td>\n",
              "      <td>male</td>\n",
              "      <td>28.250000</td>\n",
              "      <td>29.74</td>\n",
              "      <td>94.5</td>\n",
              "      <td>5.9</td>\n",
              "      <td>4.5</td>\n",
              "      <td>11.0</td>\n",
              "      <td>1.04</td>\n",
              "      <td>1</td>\n",
              "    </tr>\n",
              "    <tr>\n",
              "      <th>13</th>\n",
              "      <td>51651</td>\n",
              "      <td>female</td>\n",
              "      <td>19.333333</td>\n",
              "      <td>40.65</td>\n",
              "      <td>117.4</td>\n",
              "      <td>6.2</td>\n",
              "      <td>4.1</td>\n",
              "      <td>9.0</td>\n",
              "      <td>0.71</td>\n",
              "      <td>1</td>\n",
              "    </tr>\n",
              "    <tr>\n",
              "      <th>14</th>\n",
              "      <td>51653</td>\n",
              "      <td>male</td>\n",
              "      <td>45.000000</td>\n",
              "      <td>29.10</td>\n",
              "      <td>106.6</td>\n",
              "      <td>5.4</td>\n",
              "      <td>4.7</td>\n",
              "      <td>16.0</td>\n",
              "      <td>1.32</td>\n",
              "      <td>0</td>\n",
              "    </tr>\n",
              "    <tr>\n",
              "      <th>15</th>\n",
              "      <td>51654</td>\n",
              "      <td>male</td>\n",
              "      <td>66.416667</td>\n",
              "      <td>23.67</td>\n",
              "      <td>89.2</td>\n",
              "      <td>5.8</td>\n",
              "      <td>3.9</td>\n",
              "      <td>20.0</td>\n",
              "      <td>1.59</td>\n",
              "      <td>1</td>\n",
              "    </tr>\n",
              "    <tr>\n",
              "      <th>16</th>\n",
              "      <td>51655</td>\n",
              "      <td>female</td>\n",
              "      <td>49.500000</td>\n",
              "      <td>28.41</td>\n",
              "      <td>92.6</td>\n",
              "      <td>5.7</td>\n",
              "      <td>4.3</td>\n",
              "      <td>6.0</td>\n",
              "      <td>0.74</td>\n",
              "      <td>1</td>\n",
              "    </tr>\n",
              "    <tr>\n",
              "      <th>17</th>\n",
              "      <td>51656</td>\n",
              "      <td>male</td>\n",
              "      <td>58.916667</td>\n",
              "      <td>23.69</td>\n",
              "      <td>92.5</td>\n",
              "      <td>6.0</td>\n",
              "      <td>4.4</td>\n",
              "      <td>15.0</td>\n",
              "      <td>1.13</td>\n",
              "      <td>1</td>\n",
              "    </tr>\n",
              "    <tr>\n",
              "      <th>18</th>\n",
              "      <td>51657</td>\n",
              "      <td>male</td>\n",
              "      <td>54.500000</td>\n",
              "      <td>26.03</td>\n",
              "      <td>96.2</td>\n",
              "      <td>5.2</td>\n",
              "      <td>4.1</td>\n",
              "      <td>16.0</td>\n",
              "      <td>1.55</td>\n",
              "      <td>0</td>\n",
              "    </tr>\n",
              "    <tr>\n",
              "      <th>19</th>\n",
              "      <td>51658</td>\n",
              "      <td>female</td>\n",
              "      <td>26.750000</td>\n",
              "      <td>39.25</td>\n",
              "      <td>121.2</td>\n",
              "      <td>5.3</td>\n",
              "      <td>3.8</td>\n",
              "      <td>11.0</td>\n",
              "      <td>0.61</td>\n",
              "      <td>0</td>\n",
              "    </tr>\n",
              "    <tr>\n",
              "      <th>20</th>\n",
              "      <td>51660</td>\n",
              "      <td>male</td>\n",
              "      <td>32.833333</td>\n",
              "      <td>33.69</td>\n",
              "      <td>105.3</td>\n",
              "      <td>6.0</td>\n",
              "      <td>4.4</td>\n",
              "      <td>8.0</td>\n",
              "      <td>0.72</td>\n",
              "      <td>1</td>\n",
              "    </tr>\n",
              "    <tr>\n",
              "      <th>21</th>\n",
              "      <td>51661</td>\n",
              "      <td>female</td>\n",
              "      <td>60.166667</td>\n",
              "      <td>32.07</td>\n",
              "      <td>100.6</td>\n",
              "      <td>5.9</td>\n",
              "      <td>4.0</td>\n",
              "      <td>14.0</td>\n",
              "      <td>0.75</td>\n",
              "      <td>1</td>\n",
              "    </tr>\n",
              "    <tr>\n",
              "      <th>22</th>\n",
              "      <td>51662</td>\n",
              "      <td>female</td>\n",
              "      <td>44.166667</td>\n",
              "      <td>25.06</td>\n",
              "      <td>82.3</td>\n",
              "      <td>5.2</td>\n",
              "      <td>4.3</td>\n",
              "      <td>10.0</td>\n",
              "      <td>0.82</td>\n",
              "      <td>0</td>\n",
              "    </tr>\n",
              "    <tr>\n",
              "      <th>23</th>\n",
              "      <td>51663</td>\n",
              "      <td>female</td>\n",
              "      <td>18.833333</td>\n",
              "      <td>24.82</td>\n",
              "      <td>79.5</td>\n",
              "      <td>5.0</td>\n",
              "      <td>4.3</td>\n",
              "      <td>11.0</td>\n",
              "      <td>0.58</td>\n",
              "      <td>0</td>\n",
              "    </tr>\n",
              "    <tr>\n",
              "      <th>24</th>\n",
              "      <td>51664</td>\n",
              "      <td>female</td>\n",
              "      <td>53.750000</td>\n",
              "      <td>27.62</td>\n",
              "      <td>95.1</td>\n",
              "      <td>6.0</td>\n",
              "      <td>4.8</td>\n",
              "      <td>21.0</td>\n",
              "      <td>0.73</td>\n",
              "      <td>1</td>\n",
              "    </tr>\n",
              "    <tr>\n",
              "      <th>25</th>\n",
              "      <td>51666</td>\n",
              "      <td>female</td>\n",
              "      <td>58.416667</td>\n",
              "      <td>26.22</td>\n",
              "      <td>86.0</td>\n",
              "      <td>6.0</td>\n",
              "      <td>4.0</td>\n",
              "      <td>15.0</td>\n",
              "      <td>0.77</td>\n",
              "      <td>1</td>\n",
              "    </tr>\n",
              "    <tr>\n",
              "      <th>26</th>\n",
              "      <td>51667</td>\n",
              "      <td>male</td>\n",
              "      <td>50.250000</td>\n",
              "      <td>26.60</td>\n",
              "      <td>96.0</td>\n",
              "      <td>5.8</td>\n",
              "      <td>4.9</td>\n",
              "      <td>22.0</td>\n",
              "      <td>1.12</td>\n",
              "      <td>1</td>\n",
              "    </tr>\n",
              "    <tr>\n",
              "      <th>27</th>\n",
              "      <td>51668</td>\n",
              "      <td>female</td>\n",
              "      <td>70.166667</td>\n",
              "      <td>40.11</td>\n",
              "      <td>134.5</td>\n",
              "      <td>7.7</td>\n",
              "      <td>3.7</td>\n",
              "      <td>17.0</td>\n",
              "      <td>1.11</td>\n",
              "      <td>2</td>\n",
              "    </tr>\n",
              "    <tr>\n",
              "      <th>28</th>\n",
              "      <td>51669</td>\n",
              "      <td>female</td>\n",
              "      <td>65.083333</td>\n",
              "      <td>27.85</td>\n",
              "      <td>101.8</td>\n",
              "      <td>6.1</td>\n",
              "      <td>4.3</td>\n",
              "      <td>14.0</td>\n",
              "      <td>0.63</td>\n",
              "      <td>1</td>\n",
              "    </tr>\n",
              "    <tr>\n",
              "      <th>29</th>\n",
              "      <td>51670</td>\n",
              "      <td>male</td>\n",
              "      <td>22.416667</td>\n",
              "      <td>28.07</td>\n",
              "      <td>94.5</td>\n",
              "      <td>5.1</td>\n",
              "      <td>4.6</td>\n",
              "      <td>9.0</td>\n",
              "      <td>1.04</td>\n",
              "      <td>0</td>\n",
              "    </tr>\n",
              "  </tbody>\n",
              "</table>\n",
              "</div>"
            ],
            "text/plain": [
              "     seqn     sex        age    bmi  waist    gh  albumin   bun   SCr  gh_int\n",
              "0   51624    male  34.166667  32.22  100.4   5.2      4.8   6.0  0.94       0\n",
              "1   51626    male  16.833333  22.00   74.7   5.7      4.6   9.0  0.89       1\n",
              "2   51628  female  60.166667  42.39  118.2   6.0      3.9  10.0  1.11       1\n",
              "3   51629    male  26.083333  32.61  103.7   5.1      4.2   8.0  0.80       0\n",
              "4   51630  female  49.666667  30.57  107.8   5.3      4.3  13.0  0.79       0\n",
              "5   51633    male  80.000000  26.04   91.1   5.4      4.3  16.0  0.83       0\n",
              "6   51635    male  80.000000  27.62  113.7   6.8      4.3  16.0  0.90       2\n",
              "7   51640    male  17.416667  25.97   86.0   5.1      4.7  11.0  1.00       0\n",
              "8   51641    male  13.000000  16.60   63.6   5.6      4.3  10.0  0.46       0\n",
              "9   51643  female  43.000000  39.90  129.8  11.0      3.6  16.0  2.54       2\n",
              "10  51645    male  66.416667  28.25    NaN   5.7      4.4   9.0  0.86       1\n",
              "11  51647  female  45.166667  27.24   84.8   5.1      4.4   6.0  0.86       0\n",
              "12  51648    male  28.250000  29.74   94.5   5.9      4.5  11.0  1.04       1\n",
              "13  51651  female  19.333333  40.65  117.4   6.2      4.1   9.0  0.71       1\n",
              "14  51653    male  45.000000  29.10  106.6   5.4      4.7  16.0  1.32       0\n",
              "15  51654    male  66.416667  23.67   89.2   5.8      3.9  20.0  1.59       1\n",
              "16  51655  female  49.500000  28.41   92.6   5.7      4.3   6.0  0.74       1\n",
              "17  51656    male  58.916667  23.69   92.5   6.0      4.4  15.0  1.13       1\n",
              "18  51657    male  54.500000  26.03   96.2   5.2      4.1  16.0  1.55       0\n",
              "19  51658  female  26.750000  39.25  121.2   5.3      3.8  11.0  0.61       0\n",
              "20  51660    male  32.833333  33.69  105.3   6.0      4.4   8.0  0.72       1\n",
              "21  51661  female  60.166667  32.07  100.6   5.9      4.0  14.0  0.75       1\n",
              "22  51662  female  44.166667  25.06   82.3   5.2      4.3  10.0  0.82       0\n",
              "23  51663  female  18.833333  24.82   79.5   5.0      4.3  11.0  0.58       0\n",
              "24  51664  female  53.750000  27.62   95.1   6.0      4.8  21.0  0.73       1\n",
              "25  51666  female  58.416667  26.22   86.0   6.0      4.0  15.0  0.77       1\n",
              "26  51667    male  50.250000  26.60   96.0   5.8      4.9  22.0  1.12       1\n",
              "27  51668  female  70.166667  40.11  134.5   7.7      3.7  17.0  1.11       2\n",
              "28  51669  female  65.083333  27.85  101.8   6.1      4.3  14.0  0.63       1\n",
              "29  51670    male  22.416667  28.07   94.5   5.1      4.6   9.0  1.04       0"
            ]
          },
          "metadata": {
            "tags": []
          },
          "execution_count": 135
        }
      ]
    },
    {
      "metadata": {
        "id": "-FZ6bWiySEfU",
        "colab_type": "code",
        "outputId": "14c9280c-743d-44c1-dbd6-002e5f798232",
        "colab": {
          "base_uri": "https://localhost:8080/",
          "height": 165
        }
      },
      "cell_type": "code",
      "source": [
        "age_ranges = [\"[{0} - {1})\".format(age, age + 10) for age in range(20, 100, 10)]\n",
        "age_ranges"
      ],
      "execution_count": 136,
      "outputs": [
        {
          "output_type": "execute_result",
          "data": {
            "text/plain": [
              "['[20 - 30)',\n",
              " '[30 - 40)',\n",
              " '[40 - 50)',\n",
              " '[50 - 60)',\n",
              " '[60 - 70)',\n",
              " '[70 - 80)',\n",
              " '[80 - 90)',\n",
              " '[90 - 100)']"
            ]
          },
          "metadata": {
            "tags": []
          },
          "execution_count": 136
        }
      ]
    },
    {
      "metadata": {
        "id": "hMmXeIWXSpLi",
        "colab_type": "code",
        "outputId": "8640339f-e969-4c7c-dede-e502913798fe",
        "colab": {
          "base_uri": "https://localhost:8080/",
          "height": 35
        }
      },
      "cell_type": "code",
      "source": [
        "count_unique_age_ranges = len(age_ranges)\n",
        "count_unique_age_ranges"
      ],
      "execution_count": 137,
      "outputs": [
        {
          "output_type": "execute_result",
          "data": {
            "text/plain": [
              "8"
            ]
          },
          "metadata": {
            "tags": []
          },
          "execution_count": 137
        }
      ]
    },
    {
      "metadata": {
        "id": "_yUrOmvmSVUu",
        "colab_type": "code",
        "colab": {}
      },
      "cell_type": "code",
      "source": [
        "nhanes_sub['age_range'] = pd.cut(x=nhanes_sub['age'], bins=count_unique_age_ranges, labels=age_ranges)"
      ],
      "execution_count": 0,
      "outputs": []
    },
    {
      "metadata": {
        "id": "8I0MqSzYSs6f",
        "colab_type": "code",
        "outputId": "3439a1b9-5532-4cd8-84ce-e11e2af84637",
        "colab": {
          "base_uri": "https://localhost:8080/",
          "height": 197
        }
      },
      "cell_type": "code",
      "source": [
        "nhanes_sub.head()"
      ],
      "execution_count": 139,
      "outputs": [
        {
          "output_type": "execute_result",
          "data": {
            "text/html": [
              "<div>\n",
              "<style scoped>\n",
              "    .dataframe tbody tr th:only-of-type {\n",
              "        vertical-align: middle;\n",
              "    }\n",
              "\n",
              "    .dataframe tbody tr th {\n",
              "        vertical-align: top;\n",
              "    }\n",
              "\n",
              "    .dataframe thead th {\n",
              "        text-align: right;\n",
              "    }\n",
              "</style>\n",
              "<table border=\"1\" class=\"dataframe\">\n",
              "  <thead>\n",
              "    <tr style=\"text-align: right;\">\n",
              "      <th></th>\n",
              "      <th>seqn</th>\n",
              "      <th>sex</th>\n",
              "      <th>age</th>\n",
              "      <th>bmi</th>\n",
              "      <th>waist</th>\n",
              "      <th>gh</th>\n",
              "      <th>albumin</th>\n",
              "      <th>bun</th>\n",
              "      <th>SCr</th>\n",
              "      <th>gh_int</th>\n",
              "      <th>age_range</th>\n",
              "    </tr>\n",
              "  </thead>\n",
              "  <tbody>\n",
              "    <tr>\n",
              "      <th>0</th>\n",
              "      <td>51624</td>\n",
              "      <td>male</td>\n",
              "      <td>34.166667</td>\n",
              "      <td>32.22</td>\n",
              "      <td>100.4</td>\n",
              "      <td>5.2</td>\n",
              "      <td>4.8</td>\n",
              "      <td>6.0</td>\n",
              "      <td>0.94</td>\n",
              "      <td>0</td>\n",
              "      <td>[40 - 50)</td>\n",
              "    </tr>\n",
              "    <tr>\n",
              "      <th>1</th>\n",
              "      <td>51626</td>\n",
              "      <td>male</td>\n",
              "      <td>16.833333</td>\n",
              "      <td>22.00</td>\n",
              "      <td>74.7</td>\n",
              "      <td>5.7</td>\n",
              "      <td>4.6</td>\n",
              "      <td>9.0</td>\n",
              "      <td>0.89</td>\n",
              "      <td>1</td>\n",
              "      <td>[20 - 30)</td>\n",
              "    </tr>\n",
              "    <tr>\n",
              "      <th>2</th>\n",
              "      <td>51628</td>\n",
              "      <td>female</td>\n",
              "      <td>60.166667</td>\n",
              "      <td>42.39</td>\n",
              "      <td>118.2</td>\n",
              "      <td>6.0</td>\n",
              "      <td>3.9</td>\n",
              "      <td>10.0</td>\n",
              "      <td>1.11</td>\n",
              "      <td>1</td>\n",
              "      <td>[70 - 80)</td>\n",
              "    </tr>\n",
              "    <tr>\n",
              "      <th>3</th>\n",
              "      <td>51629</td>\n",
              "      <td>male</td>\n",
              "      <td>26.083333</td>\n",
              "      <td>32.61</td>\n",
              "      <td>103.7</td>\n",
              "      <td>5.1</td>\n",
              "      <td>4.2</td>\n",
              "      <td>8.0</td>\n",
              "      <td>0.80</td>\n",
              "      <td>0</td>\n",
              "      <td>[30 - 40)</td>\n",
              "    </tr>\n",
              "    <tr>\n",
              "      <th>4</th>\n",
              "      <td>51630</td>\n",
              "      <td>female</td>\n",
              "      <td>49.666667</td>\n",
              "      <td>30.57</td>\n",
              "      <td>107.8</td>\n",
              "      <td>5.3</td>\n",
              "      <td>4.3</td>\n",
              "      <td>13.0</td>\n",
              "      <td>0.79</td>\n",
              "      <td>0</td>\n",
              "      <td>[60 - 70)</td>\n",
              "    </tr>\n",
              "  </tbody>\n",
              "</table>\n",
              "</div>"
            ],
            "text/plain": [
              "    seqn     sex        age    bmi  waist   gh  albumin   bun   SCr  gh_int  \\\n",
              "0  51624    male  34.166667  32.22  100.4  5.2      4.8   6.0  0.94       0   \n",
              "1  51626    male  16.833333  22.00   74.7  5.7      4.6   9.0  0.89       1   \n",
              "2  51628  female  60.166667  42.39  118.2  6.0      3.9  10.0  1.11       1   \n",
              "3  51629    male  26.083333  32.61  103.7  5.1      4.2   8.0  0.80       0   \n",
              "4  51630  female  49.666667  30.57  107.8  5.3      4.3  13.0  0.79       0   \n",
              "\n",
              "   age_range  \n",
              "0  [40 - 50)  \n",
              "1  [20 - 30)  \n",
              "2  [70 - 80)  \n",
              "3  [30 - 40)  \n",
              "4  [60 - 70)  "
            ]
          },
          "metadata": {
            "tags": []
          },
          "execution_count": 139
        }
      ]
    },
    {
      "metadata": {
        "id": "ZYaInj4mTPmd",
        "colab_type": "code",
        "outputId": "2a1cf293-fc23-41e1-ac16-735bff5eee94",
        "colab": {
          "base_uri": "https://localhost:8080/",
          "height": 72
        }
      },
      "cell_type": "code",
      "source": [
        "nhanes_sub['sex'].value_counts()"
      ],
      "execution_count": 140,
      "outputs": [
        {
          "output_type": "execute_result",
          "data": {
            "text/plain": [
              "female    3423\n",
              "male      3372\n",
              "Name: sex, dtype: int64"
            ]
          },
          "metadata": {
            "tags": []
          },
          "execution_count": 140
        }
      ]
    },
    {
      "metadata": {
        "id": "Ah3oG3y1EEZE",
        "colab_type": "code",
        "outputId": "1eb8ab99-b21c-4781-aff5-68558f4485eb",
        "colab": {
          "base_uri": "https://localhost:8080/",
          "height": 325
        }
      },
      "cell_type": "code",
      "source": [
        "nhanes_sub.groupby('sex').count().plot.bar()"
      ],
      "execution_count": 141,
      "outputs": [
        {
          "output_type": "execute_result",
          "data": {
            "text/plain": [
              "<matplotlib.axes._subplots.AxesSubplot at 0x7faf2a7224e0>"
            ]
          },
          "metadata": {
            "tags": []
          },
          "execution_count": 141
        },
        {
          "output_type": "display_data",
          "data": {
            "image/png": "[encoded data removed]",
            "text/plain": [
              "<Figure size 432x288 with 1 Axes>"
            ]
          },
          "metadata": {
            "tags": []
          }
        }
      ]
    },
    {
      "metadata": {
        "id": "lw3IqadDWc5y",
        "colab_type": "code",
        "outputId": "ca0f521f-aaa3-40b9-e078-94b9ce785e60",
        "colab": {
          "base_uri": "https://localhost:8080/",
          "height": 184
        }
      },
      "cell_type": "code",
      "source": [
        "nhanes_sub['age_range'].value_counts()"
      ],
      "execution_count": 142,
      "outputs": [
        {
          "output_type": "execute_result",
          "data": {
            "text/plain": [
              "[20 - 30)     1219\n",
              "[50 - 60)      878\n",
              "[90 - 100)     862\n",
              "[60 - 70)      830\n",
              "[70 - 80)      814\n",
              "[30 - 40)      783\n",
              "[40 - 50)      764\n",
              "[80 - 90)      645\n",
              "Name: age_range, dtype: int64"
            ]
          },
          "metadata": {
            "tags": []
          },
          "execution_count": 142
        }
      ]
    },
    {
      "metadata": {
        "id": "Zq2AZJ42S1D6",
        "colab_type": "code",
        "outputId": "09280101-8d91-4367-b08f-a84526c8db3f",
        "colab": {
          "base_uri": "https://localhost:8080/",
          "height": 340
        }
      },
      "cell_type": "code",
      "source": [
        "nhanes_sub.groupby('age_range').count().plot.bar()"
      ],
      "execution_count": 143,
      "outputs": [
        {
          "output_type": "execute_result",
          "data": {
            "text/plain": [
              "<matplotlib.axes._subplots.AxesSubplot at 0x7faf2a6fb048>"
            ]
          },
          "metadata": {
            "tags": []
          },
          "execution_count": 143
        },
        {
          "output_type": "display_data",
          "data": {
            "image/png": "[encoded data removed]",
            "text/plain": [
              "<Figure size 432x288 with 1 Axes>"
            ]
          },
          "metadata": {
            "tags": []
          }
        }
      ]
    },
    {
      "metadata": {
        "id": "g6ckygdzWZn7",
        "colab_type": "code",
        "outputId": "41cf2080-3064-4d23-ba38-7ea2e56d5ccb",
        "colab": {
          "base_uri": "https://localhost:8080/",
          "height": 91
        }
      },
      "cell_type": "code",
      "source": [
        "nhanes_sub['gh_int'].value_counts()"
      ],
      "execution_count": 144,
      "outputs": [
        {
          "output_type": "execute_result",
          "data": {
            "text/plain": [
              "0    4380\n",
              "1    1787\n",
              "2     628\n",
              "Name: gh_int, dtype: int64"
            ]
          },
          "metadata": {
            "tags": []
          },
          "execution_count": 144
        }
      ]
    },
    {
      "metadata": {
        "id": "yojtvCvGTWO6",
        "colab_type": "code",
        "outputId": "be436a69-beb0-42c4-ac21-fda443c6d483",
        "colab": {
          "base_uri": "https://localhost:8080/",
          "height": 298
        }
      },
      "cell_type": "code",
      "source": [
        "nhanes_sub.groupby('gh_int').count().plot.bar()"
      ],
      "execution_count": 145,
      "outputs": [
        {
          "output_type": "execute_result",
          "data": {
            "text/plain": [
              "<matplotlib.axes._subplots.AxesSubplot at 0x7faf2a6e0e80>"
            ]
          },
          "metadata": {
            "tags": []
          },
          "execution_count": 145
        },
        {
          "output_type": "display_data",
          "data": {
            "image/png": "[encoded data removed]",
            "text/plain": [
              "<Figure size 432x288 with 1 Axes>"
            ]
          },
          "metadata": {
            "tags": []
          }
        }
      ]
    },
    {
      "metadata": {
        "id": "6Mz-64EXa933",
        "colab_type": "code",
        "colab": {
          "base_uri": "https://localhost:8080/",
          "height": 197
        },
        "outputId": "0d740910-91b4-4d9c-dd7a-4c2a21d62792"
      },
      "cell_type": "code",
      "source": [
        "nhanes_sub.head()"
      ],
      "execution_count": 146,
      "outputs": [
        {
          "output_type": "execute_result",
          "data": {
            "text/html": [
              "<div>\n",
              "<style scoped>\n",
              "    .dataframe tbody tr th:only-of-type {\n",
              "        vertical-align: middle;\n",
              "    }\n",
              "\n",
              "    .dataframe tbody tr th {\n",
              "        vertical-align: top;\n",
              "    }\n",
              "\n",
              "    .dataframe thead th {\n",
              "        text-align: right;\n",
              "    }\n",
              "</style>\n",
              "<table border=\"1\" class=\"dataframe\">\n",
              "  <thead>\n",
              "    <tr style=\"text-align: right;\">\n",
              "      <th></th>\n",
              "      <th>seqn</th>\n",
              "      <th>sex</th>\n",
              "      <th>age</th>\n",
              "      <th>bmi</th>\n",
              "      <th>waist</th>\n",
              "      <th>gh</th>\n",
              "      <th>albumin</th>\n",
              "      <th>bun</th>\n",
              "      <th>SCr</th>\n",
              "      <th>gh_int</th>\n",
              "      <th>age_range</th>\n",
              "    </tr>\n",
              "  </thead>\n",
              "  <tbody>\n",
              "    <tr>\n",
              "      <th>0</th>\n",
              "      <td>51624</td>\n",
              "      <td>male</td>\n",
              "      <td>34.166667</td>\n",
              "      <td>32.22</td>\n",
              "      <td>100.4</td>\n",
              "      <td>5.2</td>\n",
              "      <td>4.8</td>\n",
              "      <td>6.0</td>\n",
              "      <td>0.94</td>\n",
              "      <td>0</td>\n",
              "      <td>[40 - 50)</td>\n",
              "    </tr>\n",
              "    <tr>\n",
              "      <th>1</th>\n",
              "      <td>51626</td>\n",
              "      <td>male</td>\n",
              "      <td>16.833333</td>\n",
              "      <td>22.00</td>\n",
              "      <td>74.7</td>\n",
              "      <td>5.7</td>\n",
              "      <td>4.6</td>\n",
              "      <td>9.0</td>\n",
              "      <td>0.89</td>\n",
              "      <td>1</td>\n",
              "      <td>[20 - 30)</td>\n",
              "    </tr>\n",
              "    <tr>\n",
              "      <th>2</th>\n",
              "      <td>51628</td>\n",
              "      <td>female</td>\n",
              "      <td>60.166667</td>\n",
              "      <td>42.39</td>\n",
              "      <td>118.2</td>\n",
              "      <td>6.0</td>\n",
              "      <td>3.9</td>\n",
              "      <td>10.0</td>\n",
              "      <td>1.11</td>\n",
              "      <td>1</td>\n",
              "      <td>[70 - 80)</td>\n",
              "    </tr>\n",
              "    <tr>\n",
              "      <th>3</th>\n",
              "      <td>51629</td>\n",
              "      <td>male</td>\n",
              "      <td>26.083333</td>\n",
              "      <td>32.61</td>\n",
              "      <td>103.7</td>\n",
              "      <td>5.1</td>\n",
              "      <td>4.2</td>\n",
              "      <td>8.0</td>\n",
              "      <td>0.80</td>\n",
              "      <td>0</td>\n",
              "      <td>[30 - 40)</td>\n",
              "    </tr>\n",
              "    <tr>\n",
              "      <th>4</th>\n",
              "      <td>51630</td>\n",
              "      <td>female</td>\n",
              "      <td>49.666667</td>\n",
              "      <td>30.57</td>\n",
              "      <td>107.8</td>\n",
              "      <td>5.3</td>\n",
              "      <td>4.3</td>\n",
              "      <td>13.0</td>\n",
              "      <td>0.79</td>\n",
              "      <td>0</td>\n",
              "      <td>[60 - 70)</td>\n",
              "    </tr>\n",
              "  </tbody>\n",
              "</table>\n",
              "</div>"
            ],
            "text/plain": [
              "    seqn     sex        age    bmi  waist   gh  albumin   bun   SCr  gh_int  \\\n",
              "0  51624    male  34.166667  32.22  100.4  5.2      4.8   6.0  0.94       0   \n",
              "1  51626    male  16.833333  22.00   74.7  5.7      4.6   9.0  0.89       1   \n",
              "2  51628  female  60.166667  42.39  118.2  6.0      3.9  10.0  1.11       1   \n",
              "3  51629    male  26.083333  32.61  103.7  5.1      4.2   8.0  0.80       0   \n",
              "4  51630  female  49.666667  30.57  107.8  5.3      4.3  13.0  0.79       0   \n",
              "\n",
              "   age_range  \n",
              "0  [40 - 50)  \n",
              "1  [20 - 30)  \n",
              "2  [70 - 80)  \n",
              "3  [30 - 40)  \n",
              "4  [60 - 70)  "
            ]
          },
          "metadata": {
            "tags": []
          },
          "execution_count": 146
        }
      ]
    },
    {
      "metadata": {
        "id": "zZBbqDsSa4IC",
        "colab_type": "code",
        "colab": {}
      },
      "cell_type": "code",
      "source": [
        "nhanes_sub2 = nhanes_sub[['bmi','waist','gh','albumin','bun','SCr','gh_int']].copy()"
      ],
      "execution_count": 0,
      "outputs": []
    },
    {
      "metadata": {
        "id": "tjetLOOHaX6o",
        "colab_type": "code",
        "colab": {}
      },
      "cell_type": "code",
      "source": [
        "corr = nhanes_sub2.corr()"
      ],
      "execution_count": 0,
      "outputs": []
    },
    {
      "metadata": {
        "id": "SExvkjVraiGs",
        "colab_type": "code",
        "colab": {
          "base_uri": "https://localhost:8080/",
          "height": 288
        },
        "outputId": "c110cea4-94cf-49fb-b0eb-4f1a6a8a4802"
      },
      "cell_type": "code",
      "source": [
        "import seaborn as sns\n",
        "sns.heatmap(corr,annot = True)\n"
      ],
      "execution_count": 149,
      "outputs": [
        {
          "output_type": "execute_result",
          "data": {
            "text/plain": [
              "<matplotlib.axes._subplots.AxesSubplot at 0x7faf2a4c98d0>"
            ]
          },
          "metadata": {
            "tags": []
          },
          "execution_count": 149
        },
        {
          "output_type": "display_data",
          "data": {
            "image/png": "[encoded data removed]",
            "text/plain": [
              "<Figure size 432x288 with 2 Axes>"
            ]
          },
          "metadata": {
            "tags": []
          }
        }
      ]
    },
    {
      "metadata": {
        "id": "Kv41XR1ufPGd",
        "colab_type": "code",
        "colab": {
          "base_uri": "https://localhost:8080/",
          "height": 197
        },
        "outputId": "a6d19506-3680-4850-e240-6f2f58d0da56"
      },
      "cell_type": "code",
      "source": [
        "nhanes_sub2.head()"
      ],
      "execution_count": 150,
      "outputs": [
        {
          "output_type": "execute_result",
          "data": {
            "text/html": [
              "<div>\n",
              "<style scoped>\n",
              "    .dataframe tbody tr th:only-of-type {\n",
              "        vertical-align: middle;\n",
              "    }\n",
              "\n",
              "    .dataframe tbody tr th {\n",
              "        vertical-align: top;\n",
              "    }\n",
              "\n",
              "    .dataframe thead th {\n",
              "        text-align: right;\n",
              "    }\n",
              "</style>\n",
              "<table border=\"1\" class=\"dataframe\">\n",
              "  <thead>\n",
              "    <tr style=\"text-align: right;\">\n",
              "      <th></th>\n",
              "      <th>bmi</th>\n",
              "      <th>waist</th>\n",
              "      <th>gh</th>\n",
              "      <th>albumin</th>\n",
              "      <th>bun</th>\n",
              "      <th>SCr</th>\n",
              "      <th>gh_int</th>\n",
              "    </tr>\n",
              "  </thead>\n",
              "  <tbody>\n",
              "    <tr>\n",
              "      <th>0</th>\n",
              "      <td>32.22</td>\n",
              "      <td>100.4</td>\n",
              "      <td>5.2</td>\n",
              "      <td>4.8</td>\n",
              "      <td>6.0</td>\n",
              "      <td>0.94</td>\n",
              "      <td>0</td>\n",
              "    </tr>\n",
              "    <tr>\n",
              "      <th>1</th>\n",
              "      <td>22.00</td>\n",
              "      <td>74.7</td>\n",
              "      <td>5.7</td>\n",
              "      <td>4.6</td>\n",
              "      <td>9.0</td>\n",
              "      <td>0.89</td>\n",
              "      <td>1</td>\n",
              "    </tr>\n",
              "    <tr>\n",
              "      <th>2</th>\n",
              "      <td>42.39</td>\n",
              "      <td>118.2</td>\n",
              "      <td>6.0</td>\n",
              "      <td>3.9</td>\n",
              "      <td>10.0</td>\n",
              "      <td>1.11</td>\n",
              "      <td>1</td>\n",
              "    </tr>\n",
              "    <tr>\n",
              "      <th>3</th>\n",
              "      <td>32.61</td>\n",
              "      <td>103.7</td>\n",
              "      <td>5.1</td>\n",
              "      <td>4.2</td>\n",
              "      <td>8.0</td>\n",
              "      <td>0.80</td>\n",
              "      <td>0</td>\n",
              "    </tr>\n",
              "    <tr>\n",
              "      <th>4</th>\n",
              "      <td>30.57</td>\n",
              "      <td>107.8</td>\n",
              "      <td>5.3</td>\n",
              "      <td>4.3</td>\n",
              "      <td>13.0</td>\n",
              "      <td>0.79</td>\n",
              "      <td>0</td>\n",
              "    </tr>\n",
              "  </tbody>\n",
              "</table>\n",
              "</div>"
            ],
            "text/plain": [
              "     bmi  waist   gh  albumin   bun   SCr  gh_int\n",
              "0  32.22  100.4  5.2      4.8   6.0  0.94       0\n",
              "1  22.00   74.7  5.7      4.6   9.0  0.89       1\n",
              "2  42.39  118.2  6.0      3.9  10.0  1.11       1\n",
              "3  32.61  103.7  5.1      4.2   8.0  0.80       0\n",
              "4  30.57  107.8  5.3      4.3  13.0  0.79       0"
            ]
          },
          "metadata": {
            "tags": []
          },
          "execution_count": 150
        }
      ]
    },
    {
      "metadata": {
        "id": "ywmDqGHYlfkC",
        "colab_type": "code",
        "colab": {
          "base_uri": "https://localhost:8080/",
          "height": 240
        },
        "outputId": "163115bb-4716-49b0-9b6e-ac3d8b7f857f"
      },
      "cell_type": "code",
      "source": [
        "nhanes_sub2.info()"
      ],
      "execution_count": 179,
      "outputs": [
        {
          "output_type": "stream",
          "text": [
            "<class 'pandas.core.frame.DataFrame'>\n",
            "RangeIndex: 6795 entries, 0 to 6794\n",
            "Data columns (total 7 columns):\n",
            "bmi        6795 non-null float64\n",
            "waist      6556 non-null float64\n",
            "gh         6795 non-null float64\n",
            "albumin    6706 non-null float64\n",
            "bun        6706 non-null float64\n",
            "SCr        6706 non-null float64\n",
            "gh_int     6795 non-null int64\n",
            "dtypes: float64(6), int64(1)\n",
            "memory usage: 371.7 KB\n"
          ],
          "name": "stdout"
        }
      ]
    },
    {
      "metadata": {
        "id": "6urcOwE4lkAf",
        "colab_type": "code",
        "colab": {}
      },
      "cell_type": "code",
      "source": [
        "nhanes_sub2.dropna(inplace=True)"
      ],
      "execution_count": 0,
      "outputs": []
    },
    {
      "metadata": {
        "id": "h-wJRrX4loxz",
        "colab_type": "code",
        "colab": {
          "base_uri": "https://localhost:8080/",
          "height": 240
        },
        "outputId": "89ce33d8-97ba-4780-d104-3919b58ab8d6"
      },
      "cell_type": "code",
      "source": [
        "nhanes_sub2.info()"
      ],
      "execution_count": 181,
      "outputs": [
        {
          "output_type": "stream",
          "text": [
            "<class 'pandas.core.frame.DataFrame'>\n",
            "Int64Index: 6475 entries, 0 to 6794\n",
            "Data columns (total 7 columns):\n",
            "bmi        6475 non-null float64\n",
            "waist      6475 non-null float64\n",
            "gh         6475 non-null float64\n",
            "albumin    6475 non-null float64\n",
            "bun        6475 non-null float64\n",
            "SCr        6475 non-null float64\n",
            "gh_int     6475 non-null int64\n",
            "dtypes: float64(6), int64(1)\n",
            "memory usage: 404.7 KB\n"
          ],
          "name": "stdout"
        }
      ]
    },
    {
      "metadata": {
        "id": "Ln8uXQ3jcmpp",
        "colab_type": "code",
        "colab": {}
      },
      "cell_type": "code",
      "source": [
        "from sklearn.model_selection import train_test_split\n",
        "train_set, test_set,train_label,test_label = train_test_split(nhanes_sub2[['bmi','waist','gh','albumin','bun','SCr']],nhanes_sub2['gh_int'],\n",
        "                                                              test_size=0.33,random_state=42)"
      ],
      "execution_count": 0,
      "outputs": []
    },
    {
      "metadata": {
        "id": "38HJIkkmdrKq",
        "colab_type": "code",
        "colab": {}
      },
      "cell_type": "code",
      "source": [
        "from sklearn.preprocessing import MinMaxScaler as Scaler\n",
        "scaler = Scaler()\n",
        "scaler.fit(train_set)\n",
        "train_set_scaled = scaler.transform(train_set)\n",
        "test_set_scaled = scaler.transform(test_set)"
      ],
      "execution_count": 0,
      "outputs": []
    },
    {
      "metadata": {
        "id": "ZJRKqVl-d-p2",
        "colab_type": "code",
        "colab": {}
      },
      "cell_type": "code",
      "source": [
        "from sklearn.linear_model import LogisticRegression\n",
        "from sklearn.neighbors import KNeighborsClassifier\n",
        "from sklearn.naive_bayes import GaussianNB\n",
        "from sklearn.svm import SVC\n",
        "from sklearn.ensemble import RandomForestClassifier\n",
        "from sklearn.tree import DecisionTreeRegressor\n",
        "from sklearn import model_selection\n",
        "from xgboost.sklearn import XGBClassifier"
      ],
      "execution_count": 0,
      "outputs": []
    },
    {
      "metadata": {
        "id": "wXzd1Ra4eC2l",
        "colab_type": "code",
        "colab": {}
      },
      "cell_type": "code",
      "source": [
        "models = []\n",
        "models.append(('LR', LogisticRegression(solver ='lbfgs',multi_class='auto')))\n",
        "models.append(('KNN', KNeighborsClassifier()))\n",
        "models.append(('NB', GaussianNB()))\n",
        "models.append(('SVC', SVC(gamma='scale')))\n",
        "models.append(('RFC', RandomForestClassifier(n_estimators=100)))\n",
        "models.append(('DTR', DecisionTreeRegressor()))\n",
        "models.append(('XGB',XGBClassifier()))"
      ],
      "execution_count": 0,
      "outputs": []
    },
    {
      "metadata": {
        "id": "Hv8A6KUEeq4w",
        "colab_type": "code",
        "colab": {}
      },
      "cell_type": "code",
      "source": [
        "results = []\n",
        "names = []\n",
        "X = train_set_scaled\n",
        "y = train_label\n",
        "seed = 5"
      ],
      "execution_count": 0,
      "outputs": []
    },
    {
      "metadata": {
        "id": "aCV8YmQbewi_",
        "colab_type": "code",
        "colab": {
          "base_uri": "https://localhost:8080/",
          "height": 147
        },
        "outputId": "97c5299e-5329-4374-c4c6-7726baaa01a1"
      },
      "cell_type": "code",
      "source": [
        "for name, model in models:\n",
        "    kfold = model_selection.KFold(n_splits = 10, random_state=seed)\n",
        "    cv_results = model_selection.cross_val_score(model, X, y,cv=kfold, scoring='accuracy')\n",
        "    results.append(cv_results)\n",
        "    names.append(name)\n",
        "    msg = \"{}: {} ({})\". format(name, cv_results.mean(), cv_results.std())\n",
        "    print(msg)"
      ],
      "execution_count": 201,
      "outputs": [
        {
          "output_type": "stream",
          "text": [
            "LR: 0.8139744149168273 (0.023532563153236836)\n",
            "KNN: 0.8743611711241899 (0.015196588169817608)\n",
            "NB: 0.9193143963985058 (0.015948207726423427)\n",
            "SVC: 0.9619671991570972 (0.008747562663655305)\n",
            "RFC: 1.0 (0.0)\n",
            "DTR: 1.0 (0.0)\n",
            "XGB: 1.0 (0.0)\n"
          ],
          "name": "stdout"
        }
      ]
    },
    {
      "metadata": {
        "id": "UNNeKDiwqOgI",
        "colab_type": "code",
        "colab": {}
      },
      "cell_type": "code",
      "source": [
        "from sklearn.metrics import accuracy_score,classification_report,confusion_matrix"
      ],
      "execution_count": 0,
      "outputs": []
    },
    {
      "metadata": {
        "id": "ewZ3lLgwpJeb",
        "colab_type": "code",
        "colab": {}
      },
      "cell_type": "code",
      "source": [
        "Decision_tree_model = DecisionTreeRegressor()\n",
        "Decision_tree_model.fit(train_set_scaled,train_label)\n",
        "Decision_tree_prediction = Decision_tree_model.predict(test_set_scaled)"
      ],
      "execution_count": 0,
      "outputs": []
    },
    {
      "metadata": {
        "id": "rrbuKtc1qkMc",
        "colab_type": "code",
        "colab": {
          "base_uri": "https://localhost:8080/",
          "height": 221
        },
        "outputId": "846866b4-2834-4fec-bcd6-6f7229a13a92"
      },
      "cell_type": "code",
      "source": [
        "print( 'Decision Tree Classification Report:\\n', classification_report(test_label,Decision_tree_prediction,target_names=['0','1','2']))"
      ],
      "execution_count": 213,
      "outputs": [
        {
          "output_type": "stream",
          "text": [
            "Decision Tree Classification Report:\n",
            "               precision    recall  f1-score   support\n",
            "\n",
            "           0       1.00      1.00      1.00      1388\n",
            "           1       1.00      1.00      1.00       546\n",
            "           2       1.00      1.00      1.00       203\n",
            "\n",
            "   micro avg       1.00      1.00      1.00      2137\n",
            "   macro avg       1.00      1.00      1.00      2137\n",
            "weighted avg       1.00      1.00      1.00      2137\n",
            "\n"
          ],
          "name": "stdout"
        }
      ]
    },
    {
      "metadata": {
        "id": "WMQRTDRQrnYA",
        "colab_type": "code",
        "colab": {
          "base_uri": "https://localhost:8080/",
          "height": 54
        },
        "outputId": "9e43bdf7-65ef-4f85-a20d-89d542b6060b"
      },
      "cell_type": "code",
      "source": [
        "print('Decision Tree Accuracy Score:\\n', accuracy_score(test_label,Decision_tree_prediction))"
      ],
      "execution_count": 214,
      "outputs": [
        {
          "output_type": "stream",
          "text": [
            "Decision Tree Accuracy Score:\n",
            " 1.0\n"
          ],
          "name": "stdout"
        }
      ]
    },
    {
      "metadata": {
        "id": "nSJa9hxCr1Ce",
        "colab_type": "code",
        "colab": {
          "base_uri": "https://localhost:8080/",
          "height": 282
        },
        "outputId": "bf6be5bb-cb74-43e0-963c-5c5c6834b5b9"
      },
      "cell_type": "code",
      "source": [
        "Decision_tree_matrix = confusion_matrix(test_label,Decision_tree_prediction)\n",
        "from mlxtend.plotting import plot_confusion_matrix\n",
        "import matplotlib.pyplot as plt\n",
        "\n",
        "\n",
        "fig, ax = plot_confusion_matrix(conf_mat=Decision_tree_matrix)\n",
        "plt.show()"
      ],
      "execution_count": 217,
      "outputs": [
        {
          "output_type": "display_data",
          "data": {
            "image/png": "[encoded data removed]",
            "text/plain": [
              "<Figure size 432x288 with 1 Axes>"
            ]
          },
          "metadata": {
            "tags": []
          }
        }
      ]
    },
    {
      "metadata": {
        "id": "5RCSnIkxtZA3",
        "colab_type": "code",
        "colab": {}
      },
      "cell_type": "code",
      "source": [
        "Logistic_regression_model = LogisticRegression(solver ='lbfgs',multi_class='auto')\n",
        "Logistic_regression_model.fit(train_set_scaled,train_label)\n",
        "Logistic_regression_prediction = Logistic_regression_model.predict(test_set_scaled)"
      ],
      "execution_count": 0,
      "outputs": []
    },
    {
      "metadata": {
        "id": "NJOK65CFt4oj",
        "colab_type": "code",
        "colab": {
          "base_uri": "https://localhost:8080/",
          "height": 221
        },
        "outputId": "12cf2750-3a39-45cd-d7c8-484ec68664d8"
      },
      "cell_type": "code",
      "source": [
        "print( 'Logistic Regression Classification Report:\\n', classification_report(test_label,Logistic_regression_prediction,target_names=['0','1','2']))"
      ],
      "execution_count": 219,
      "outputs": [
        {
          "output_type": "stream",
          "text": [
            "Logistic Regression Classification Report:\n",
            "               precision    recall  f1-score   support\n",
            "\n",
            "           0       0.84      1.00      0.91      1388\n",
            "           1       0.74      0.52      0.61       546\n",
            "           2       1.00      0.54      0.70       203\n",
            "\n",
            "   micro avg       0.83      0.83      0.83      2137\n",
            "   macro avg       0.86      0.68      0.74      2137\n",
            "weighted avg       0.83      0.83      0.81      2137\n",
            "\n"
          ],
          "name": "stdout"
        }
      ]
    },
    {
      "metadata": {
        "id": "HgBJDLVduEbM",
        "colab_type": "code",
        "colab": {
          "base_uri": "https://localhost:8080/",
          "height": 54
        },
        "outputId": "037d3876-7e29-4535-bb80-1bd851f95a91"
      },
      "cell_type": "code",
      "source": [
        "print('Logistic Regression Accuracy Score:\\n', accuracy_score(test_label,Logistic_regression_prediction))"
      ],
      "execution_count": 220,
      "outputs": [
        {
          "output_type": "stream",
          "text": [
            "Logistic Regression Accuracy Score:\n",
            " 0.8306036499766027\n"
          ],
          "name": "stdout"
        }
      ]
    },
    {
      "metadata": {
        "id": "zujH5Ac1uOFP",
        "colab_type": "code",
        "colab": {
          "base_uri": "https://localhost:8080/",
          "height": 282
        },
        "outputId": "baa83b09-51d6-41bf-d7d0-6a04f78aa9f8"
      },
      "cell_type": "code",
      "source": [
        "Logistic_regression_matrix = confusion_matrix(test_label,Logistic_regression_prediction)\n",
        "from mlxtend.plotting import plot_confusion_matrix\n",
        "import matplotlib.pyplot as plt\n",
        "\n",
        "\n",
        "fig, ax = plot_confusion_matrix(conf_mat=Logistic_regression_matrix,cmap='viridis')\n",
        "plt.show()"
      ],
      "execution_count": 224,
      "outputs": [
        {
          "output_type": "display_data",
          "data": {
            "image/png": "[encoded data removed]",
            "text/plain": [
              "<Figure size 432x288 with 1 Axes>"
            ]
          },
          "metadata": {
            "tags": []
          }
        }
      ]
    }
  ]
}